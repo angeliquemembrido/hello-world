{
  "nbformat": 4,
  "nbformat_minor": 0,
  "metadata": {
    "colab": {
      "provenance": [],
      "include_colab_link": true
    },
    "kernelspec": {
      "name": "python3",
      "display_name": "Python 3"
    },
    "language_info": {
      "name": "python"
    }
  },
  "cells": [
    {
      "cell_type": "markdown",
      "metadata": {
        "id": "view-in-github",
        "colab_type": "text"
      },
      "source": [
        "<a href=\"https://colab.research.google.com/github/angeliquemembrido/hello-world/blob/main/Copy_of_TRAIN_AWS_Part_I_Pre_Session_2_Homework_%5BSTUDENT%5D.ipynb\" target=\"_parent\"><img src=\"https://colab.research.google.com/assets/colab-badge.svg\" alt=\"Open In Colab\"/></a>"
      ]
    },
    {
      "cell_type": "markdown",
      "source": [
        "# **Homework: Python Basics - Part 2**\n",
        "---"
      ],
      "metadata": {
        "id": "VpJoSzHkmseh"
      }
    },
    {
      "cell_type": "markdown",
      "source": [
        "<a name=\"p1\"></a>\n",
        "\n",
        "---\n",
        "## **Part 1: Printing and Concatenation**\n",
        "---"
      ],
      "metadata": {
        "id": "FBw01-g0WGeM"
      }
    },
    {
      "cell_type": "markdown",
      "source": [
        "### **Problem #1.1**\n",
        "Print a number."
      ],
      "metadata": {
        "id": "IANiJXKk3rGx"
      }
    },
    {
      "cell_type": "code",
      "source": [
        "print(2023)"
      ],
      "metadata": {
        "id": "f1VxLHLB5BJl",
        "colab": {
          "base_uri": "https://localhost:8080/"
        },
        "outputId": "cb2e52d1-25cb-4ea0-8064-cb0379370f90"
      },
      "execution_count": 1,
      "outputs": [
        {
          "output_type": "stream",
          "name": "stdout",
          "text": [
            "2023\n"
          ]
        }
      ]
    },
    {
      "cell_type": "markdown",
      "source": [
        "### **Problem #1.2**\n",
        "Print a day of the week."
      ],
      "metadata": {
        "id": "dLx_yWQh3r8r"
      }
    },
    {
      "cell_type": "code",
      "source": [
        "print(\"Thursday\")"
      ],
      "metadata": {
        "id": "LE7unWGA5hII",
        "colab": {
          "base_uri": "https://localhost:8080/"
        },
        "outputId": "cf8bd531-632a-4e38-8c51-adc7ad9e2049"
      },
      "execution_count": 2,
      "outputs": [
        {
          "output_type": "stream",
          "name": "stdout",
          "text": [
            "Thursday\n"
          ]
        }
      ]
    },
    {
      "cell_type": "markdown",
      "source": [
        "### **Problem #1.3**\n",
        "Create a variable storing the number `42`. Use this variable to print the following: `\"This is a number: <num>\"`."
      ],
      "metadata": {
        "id": "DbEEDBtC3s2s"
      }
    },
    {
      "cell_type": "code",
      "source": [
        "num = 42\n",
        "print(\"This is a number: \" + str(num))"
      ],
      "metadata": {
        "id": "2D00kFVf5w9s",
        "colab": {
          "base_uri": "https://localhost:8080/"
        },
        "outputId": "b5e30e11-9826-4b55-f868-edf7031a9f16"
      },
      "execution_count": 3,
      "outputs": [
        {
          "output_type": "stream",
          "name": "stdout",
          "text": [
            "This is a number: 42\n"
          ]
        }
      ]
    },
    {
      "cell_type": "markdown",
      "source": [
        "### **Problem #1.4**\n",
        "Create two variables: one with the city you were born in and the other with the year. Then print, `\"I was born in <city> in <year>\"`."
      ],
      "metadata": {
        "id": "SFZjqu7Y3t5K"
      }
    },
    {
      "cell_type": "code",
      "source": [
        "city = \"San Jose\"\n",
        "year = 1996\n",
        "print(\"I was born in \" + city + \" in \" + str(year))"
      ],
      "metadata": {
        "id": "rQEsjkO86Oqp",
        "colab": {
          "base_uri": "https://localhost:8080/"
        },
        "outputId": "f6fa40c5-cdef-47c7-98c7-c9cb9e4ff8ed"
      },
      "execution_count": 4,
      "outputs": [
        {
          "output_type": "stream",
          "name": "stdout",
          "text": [
            "I was born in San Jose in 1996\n"
          ]
        }
      ]
    },
    {
      "cell_type": "markdown",
      "source": [
        "<a name=\"p2\"></a>\n",
        "\n",
        "---\n",
        "## **Part 2: Arithmetic Operators**\n",
        "---"
      ],
      "metadata": {
        "id": "reaiNEX8YGYR"
      }
    },
    {
      "cell_type": "markdown",
      "source": [
        "### **Problem #2.1**\n",
        "Below are two variables, `x` and `y`. Print the product of the two."
      ],
      "metadata": {
        "id": "mpb6sP1F3uw2"
      }
    },
    {
      "cell_type": "code",
      "source": [
        "x = 5\n",
        "y = 6\n",
        "\n",
        "print(x*y)"
      ],
      "metadata": {
        "id": "-nq1kSy46mQU",
        "colab": {
          "base_uri": "https://localhost:8080/"
        },
        "outputId": "50d43799-5b35-463e-d06d-a35193a0369d"
      },
      "execution_count": 6,
      "outputs": [
        {
          "output_type": "stream",
          "name": "stdout",
          "text": [
            "30\n"
          ]
        }
      ]
    },
    {
      "cell_type": "markdown",
      "source": [
        "### **Problem #2.2**\n",
        "Create three variables, `x`, `y`, and `z` with values 7, 10, and 6, respectively. Print the sum of the three."
      ],
      "metadata": {
        "id": "dSDSKUEJ3vv4"
      }
    },
    {
      "cell_type": "code",
      "source": [
        "x = 7\n",
        "y = 10\n",
        "z = 6\n",
        "\n",
        "print(x + y + z)"
      ],
      "metadata": {
        "id": "WrcOb51i6wrv",
        "colab": {
          "base_uri": "https://localhost:8080/"
        },
        "outputId": "aa6e3dd0-6907-473b-cabf-02e24b2c1963"
      },
      "execution_count": 7,
      "outputs": [
        {
          "output_type": "stream",
          "name": "stdout",
          "text": [
            "23\n"
          ]
        }
      ]
    },
    {
      "cell_type": "markdown",
      "source": [
        "### **Problem #2.3**\n",
        "Comment out lines in the cell below so only the number `1` is printed."
      ],
      "metadata": {
        "id": "Nu5IcwY93woZ"
      }
    },
    {
      "cell_type": "code",
      "source": [
        "#print(0)\n",
        "print(1)\n",
        "#print(2)\n",
        "#print(3)"
      ],
      "metadata": {
        "id": "ZPGc6-wv7ASd",
        "colab": {
          "base_uri": "https://localhost:8080/"
        },
        "outputId": "24f7e219-f494-4556-fe78-4b5140c32d1b"
      },
      "execution_count": 8,
      "outputs": [
        {
          "output_type": "stream",
          "name": "stdout",
          "text": [
            "1\n"
          ]
        }
      ]
    },
    {
      "cell_type": "markdown",
      "source": [
        "### **Problem #2.4**\n",
        "What is 99999999 divided by 3? Print the outcome."
      ],
      "metadata": {
        "id": "mHtxJLVN3xiv"
      }
    },
    {
      "cell_type": "code",
      "source": [
        "print(99999999/3)"
      ],
      "metadata": {
        "id": "t3ULNDZz7lMA",
        "colab": {
          "base_uri": "https://localhost:8080/"
        },
        "outputId": "03cdc0cc-ef3a-48dd-e632-e03faea73afa"
      },
      "execution_count": 9,
      "outputs": [
        {
          "output_type": "stream",
          "name": "stdout",
          "text": [
            "33333333.0\n"
          ]
        }
      ]
    },
    {
      "cell_type": "markdown",
      "source": [
        "<a name=\"p3\"></a>\n",
        "\n",
        "---\n",
        "## **Part 3: Lists**\n",
        "---\n"
      ],
      "metadata": {
        "id": "cl9xmTIm9VAf"
      }
    },
    {
      "cell_type": "markdown",
      "source": [
        "### **Use the list `temperatures` below to answer Problems #3.1-3.4.**"
      ],
      "metadata": {
        "id": "ogJtBEq2HgdV"
      }
    },
    {
      "cell_type": "code",
      "source": [
        "temperatures = [60, 66, 42, 38, 71]"
      ],
      "metadata": {
        "id": "ZjyOCkUVNmFe"
      },
      "execution_count": 10,
      "outputs": []
    },
    {
      "cell_type": "markdown",
      "source": [
        "### **Problem #3.1**\n",
        "Replace `42` with `50`."
      ],
      "metadata": {
        "id": "uSCTnndlT-mB"
      }
    },
    {
      "cell_type": "code",
      "source": [
        "temperatures[2] = 50\n",
        "print(temperatures)"
      ],
      "metadata": {
        "id": "vJJJmW0Z3KcH",
        "colab": {
          "base_uri": "https://localhost:8080/"
        },
        "outputId": "7d19b3d5-2b5c-41ea-c247-17db045c9abc"
      },
      "execution_count": 11,
      "outputs": [
        {
          "output_type": "stream",
          "name": "stdout",
          "text": [
            "[60, 66, 50, 38, 71]\n"
          ]
        }
      ]
    },
    {
      "cell_type": "markdown",
      "source": [
        "### **Problem #3.2**\n",
        "\n",
        "Drop value 71."
      ],
      "metadata": {
        "id": "nvxk8oq1U_UT"
      }
    },
    {
      "cell_type": "code",
      "source": [
        "#temperatures.remove(71)\n",
        "print(temperatures)"
      ],
      "metadata": {
        "id": "qiwH5yUL3Tw6",
        "colab": {
          "base_uri": "https://localhost:8080/"
        },
        "outputId": "e03bab27-fc7e-4696-d345-e05cdacc1f1b"
      },
      "execution_count": 14,
      "outputs": [
        {
          "output_type": "stream",
          "name": "stdout",
          "text": [
            "[60, 66, 50, 38]\n"
          ]
        }
      ]
    },
    {
      "cell_type": "markdown",
      "source": [
        "### **Problem #3.3**\n",
        "\n",
        "Add value 65."
      ],
      "metadata": {
        "id": "B3IYGSpOVbnt"
      }
    },
    {
      "cell_type": "code",
      "source": [
        "temperatures.append(65)\n",
        "print(temperatures)"
      ],
      "metadata": {
        "id": "xaQuluOc3adP",
        "colab": {
          "base_uri": "https://localhost:8080/"
        },
        "outputId": "cf4c4e13-6003-42f8-ce94-23ba6e74c953"
      },
      "execution_count": 15,
      "outputs": [
        {
          "output_type": "stream",
          "name": "stdout",
          "text": [
            "[60, 66, 50, 38, 65]\n"
          ]
        }
      ]
    },
    {
      "cell_type": "markdown",
      "source": [
        "### **Problem #3.4**\n",
        "\n",
        "Replace 65 with 85."
      ],
      "metadata": {
        "id": "RvCS8T9QVsOq"
      }
    },
    {
      "cell_type": "code",
      "source": [
        "temperatures[4] = 85\n",
        "print(temperatures)"
      ],
      "metadata": {
        "id": "wP8-nB7A3iS7",
        "colab": {
          "base_uri": "https://localhost:8080/"
        },
        "outputId": "141422b2-dd5d-48f5-84ba-1f2bc5e5111e"
      },
      "execution_count": 16,
      "outputs": [
        {
          "output_type": "stream",
          "name": "stdout",
          "text": [
            "[60, 66, 50, 38, 85]\n"
          ]
        }
      ]
    },
    {
      "cell_type": "markdown",
      "source": [
        "### **Use the list `subjects` below to answer Problems #3.5 - 3.9.**"
      ],
      "metadata": {
        "id": "ZQgiZ51bWriK"
      }
    },
    {
      "cell_type": "code",
      "source": [
        "subjects = [\"Math\", \"Physics\", \"Chemistry\", \"Biology\"]"
      ],
      "metadata": {
        "id": "J2hhXPkoWwCB"
      },
      "execution_count": 17,
      "outputs": []
    },
    {
      "cell_type": "markdown",
      "source": [
        "### **Problem #3.5**\n",
        "\n",
        "Add Calculus."
      ],
      "metadata": {
        "id": "lASyq8zGW1xF"
      }
    },
    {
      "cell_type": "code",
      "source": [
        "subjects.append(\"Calculus\")\n",
        "print(subjects)"
      ],
      "metadata": {
        "id": "M6McB8Tt4RiJ",
        "colab": {
          "base_uri": "https://localhost:8080/"
        },
        "outputId": "1fa9dac5-d1c1-4fed-e71c-c93b077b039d"
      },
      "execution_count": 18,
      "outputs": [
        {
          "output_type": "stream",
          "name": "stdout",
          "text": [
            "['Math', 'Physics', 'Chemistry', 'Biology', 'Calculus']\n"
          ]
        }
      ]
    },
    {
      "cell_type": "markdown",
      "source": [
        "### **Problem #3.6**\n",
        "\n",
        "Drop Math."
      ],
      "metadata": {
        "id": "RmwkksaCW4gX"
      }
    },
    {
      "cell_type": "code",
      "source": [
        "subjects.remove(\"Math\")\n"
      ],
      "metadata": {
        "id": "zE0vh7R44XzU"
      },
      "execution_count": 20,
      "outputs": []
    },
    {
      "cell_type": "code",
      "source": [
        "print(subjects)"
      ],
      "metadata": {
        "colab": {
          "base_uri": "https://localhost:8080/"
        },
        "id": "xWDkLDgu390S",
        "outputId": "fbf84b73-676c-40e5-a3fd-d7f884777dc6"
      },
      "execution_count": 21,
      "outputs": [
        {
          "output_type": "stream",
          "name": "stdout",
          "text": [
            "['Physics', 'Chemistry', 'Biology', 'Calculus']\n"
          ]
        }
      ]
    },
    {
      "cell_type": "markdown",
      "source": [
        "### **Problem #3.7**\n",
        "\n",
        "Replace Physics with AP Physics."
      ],
      "metadata": {
        "id": "jZ8AJlrVW5k2"
      }
    },
    {
      "cell_type": "code",
      "source": [
        "subjects[0] = \"AP Physics\"\n",
        "print(subjects)"
      ],
      "metadata": {
        "id": "NGn2rRQl4EoB",
        "colab": {
          "base_uri": "https://localhost:8080/"
        },
        "outputId": "c8cc0462-d5b1-45bf-b8b2-708431a9caaf"
      },
      "execution_count": 22,
      "outputs": [
        {
          "output_type": "stream",
          "name": "stdout",
          "text": [
            "['AP Physics', 'Chemistry', 'Biology', 'Calculus']\n"
          ]
        }
      ]
    },
    {
      "cell_type": "markdown",
      "source": [
        "### **Problem #3.8**\n",
        "\n",
        "Replace Biology with AP Bio."
      ],
      "metadata": {
        "id": "Xj6gU-xDW9Oj"
      }
    },
    {
      "cell_type": "code",
      "source": [
        "subjects[2] = 'AP Bio'\n",
        "print(subjects)"
      ],
      "metadata": {
        "id": "uwTJ8pTNWajq",
        "colab": {
          "base_uri": "https://localhost:8080/"
        },
        "outputId": "8021b1b6-c52b-435b-bb0c-881e31d18d01"
      },
      "execution_count": 23,
      "outputs": [
        {
          "output_type": "stream",
          "name": "stdout",
          "text": [
            "['AP Physics', 'Chemistry', 'AP Bio', 'Calculus']\n"
          ]
        }
      ]
    },
    {
      "cell_type": "markdown",
      "source": [
        "### **Problem #3.9**\n",
        "\n",
        "Drop Calculus."
      ],
      "metadata": {
        "id": "-2timCvfW-9g"
      }
    },
    {
      "cell_type": "code",
      "source": [
        "subjects.remove(\"Calculus\")\n",
        "print(subjects)"
      ],
      "metadata": {
        "id": "rMxJuZ_7HvU-",
        "colab": {
          "base_uri": "https://localhost:8080/"
        },
        "outputId": "a50f89ba-6f74-4b81-d5af-43c29ac18f8f"
      },
      "execution_count": 24,
      "outputs": [
        {
          "output_type": "stream",
          "name": "stdout",
          "text": [
            "['AP Physics', 'Chemistry', 'AP Bio']\n"
          ]
        }
      ]
    },
    {
      "cell_type": "markdown",
      "source": [
        "<a name=\"p4\"></a>\n",
        "\n",
        "---\n",
        "## **Part 4: [OPTIONAL ADVANCED] Build Your Own Data Explorer**\n",
        "---\n",
        "\n",
        "In this section, you will code a series of functions of can help us explore and understand the data stored in lists. In the course, we will see more advanced tools that have been written to do just this!\n",
        "\n",
        "<br>\n",
        "\n",
        "**NOTE**: This section requires python knowledge that is not necessary for this course such as conditionals (if-elses), loops, and defining functions. As such, this section is only if you want a challenge or are already familiar with these concepts and want to brush up on them."
      ],
      "metadata": {
        "id": "VsAElfj9eaBq"
      }
    },
    {
      "cell_type": "markdown",
      "source": [
        "### **Problem #4.1**\n",
        "\n",
        "Write a function as described below:\n",
        "* It is named `average`.\n",
        "* It takes in 1 parameter, `data`, which is assumed to be a list of numbers.\n",
        "* It returns the average (or mean) of the numbers in the list.\n",
        "\n",
        "<br>\n",
        "\n",
        "**Hint**: Python has built-in functions that may be helpful here-specifically, [`sum(...)`](https://docs.python.org/3/library/functions.html#sum) and [`len(...)`](https://docs.python.org/3/library/functions.html#len). Click on the function names here to read more about them."
      ],
      "metadata": {
        "id": "t4G0m4OI1o5U"
      }
    },
    {
      "cell_type": "code",
      "source": [
        "def average(data):\n",
        "  average = sum(data)/len(data)\n",
        "  return average\n",
        "\n",
        "average([3, 4, 5, 6])"
      ],
      "metadata": {
        "id": "7SLEYlvB1o5g",
        "colab": {
          "base_uri": "https://localhost:8080/"
        },
        "outputId": "600a8b70-dc7d-48c3-b594-daa831b173b7"
      },
      "execution_count": 29,
      "outputs": [
        {
          "output_type": "execute_result",
          "data": {
            "text/plain": [
              "4.5"
            ]
          },
          "metadata": {},
          "execution_count": 29
        }
      ]
    },
    {
      "cell_type": "markdown",
      "source": [
        "### **Problem #4.2**\n",
        "\n",
        "Write a function as described below:\n",
        "* It is named `variance`.\n",
        "* It takes in 1 parameter, `data`, which is assumed to be a list of numbers.\n",
        "* It returns the variance of the numbers in the list.\n",
        "\n",
        "<br>\n",
        "\n",
        "**NOTE**: The variance can be calculated as follows,\n",
        "\n",
        "$\\textbf{variance = sum} \\mathbf{\\frac{(\\text{data}_i - \\text{average})^2}{\\text{number of data points}}}$"
      ],
      "metadata": {
        "id": "vJn2_cKD2V3P"
      }
    },
    {
      "cell_type": "code",
      "source": [
        "def variance(data):\n",
        "\n",
        "  avg = average(data)\n",
        "\n",
        "  result = 0\n",
        "  for i in range(len(data)):\n",
        "\n",
        "    result += (data[i] - avg)**2/len(data)\n",
        "\n",
        "  return result\n",
        "\n",
        "variance([4, 5, 6, 7, 8])"
      ],
      "metadata": {
        "id": "8IwIecuG2V3b",
        "colab": {
          "base_uri": "https://localhost:8080/"
        },
        "outputId": "1a4d66ac-c6eb-42cf-d07f-f76de80d0ba9"
      },
      "execution_count": 30,
      "outputs": [
        {
          "output_type": "execute_result",
          "data": {
            "text/plain": [
              "2.0"
            ]
          },
          "metadata": {},
          "execution_count": 30
        }
      ]
    },
    {
      "cell_type": "markdown",
      "source": [
        "### **Problem #4.3**\n",
        "\n",
        "Write a function as described below:\n",
        "* It is named `statistics`.\n",
        "* It takes in 1 parameter, `data`, which is assumed to be a list of numbers.\n",
        "* It prints the average, variance, minimum, and maximum of the list.\n",
        "* It returns nothing.\n",
        "\n",
        "<br>\n",
        "\n",
        "**Hint**: Python has built-in functions that may be helpful here-specifically, [`min(...)`](https://docs.python.org/3/library/functions.html#min) and [`max(...)`](https://docs.python.org/3/library/functions.html#max). Click on the function names here to read more about them."
      ],
      "metadata": {
        "id": "_OfuXCPT30Lf"
      }
    },
    {
      "cell_type": "code",
      "source": [
        "def statistics(data):\n",
        "  print(\"average: \" + str(average(data)))\n",
        "  print(\"variance: \" + str(variance(data)))\n",
        "  print(\"min: \" + str(min(data)))\n",
        "  print(\"max: \" + str(max(data)))\n",
        "\n",
        "statistics([5, 6, 7, 8])"
      ],
      "metadata": {
        "id": "KV4btsG730Lr",
        "colab": {
          "base_uri": "https://localhost:8080/"
        },
        "outputId": "5db256a5-bdcd-42db-86f1-c4031a60ec16"
      },
      "execution_count": 34,
      "outputs": [
        {
          "output_type": "stream",
          "name": "stdout",
          "text": [
            "average: 6.5\n",
            "variance: 1.25\n",
            "min: 5\n",
            "max: 8\n"
          ]
        }
      ]
    },
    {
      "cell_type": "markdown",
      "source": [
        "### **Problem #4.4**\n",
        "\n",
        "Write a function as described below:\n",
        "* It is named `drop_na`.\n",
        "* It takes in 1 parameter, `data`, which is assumed to be a list of numbers.\n",
        "* It creates a new list that stores any elements from `data` that *are not* equal to `'NaN'` or `'null'`.\n",
        "* It returns the new list."
      ],
      "metadata": {
        "id": "XJBRpoBz4WnP"
      }
    },
    {
      "cell_type": "code",
      "source": [
        "def drop_na(data):\n",
        "\n",
        "  new_data = []\n",
        "  for i in range(len(data)):\n",
        "\n",
        "    if data[i] != \"NaN\" and data[i] != 'null':\n",
        "      new_data.append(data[i])\n",
        "\n",
        "  return new_data\n",
        "\n",
        "drop_na([4, 5, 6, 'NaN', 10, 'hello', 'null'])"
      ],
      "metadata": {
        "id": "zHvt18ZI4Wnc",
        "colab": {
          "base_uri": "https://localhost:8080/"
        },
        "outputId": "b8ad32ca-bc69-470e-e58f-3e86cd1a94b9"
      },
      "execution_count": 36,
      "outputs": [
        {
          "output_type": "execute_result",
          "data": {
            "text/plain": [
              "[4, 5, 6, 10, 'hello']"
            ]
          },
          "metadata": {},
          "execution_count": 36
        }
      ]
    },
    {
      "cell_type": "markdown",
      "source": [
        "### **Problem #4.5**\n",
        "\n",
        "Write a function as described below:\n",
        "* It is named `head`.\n",
        "* It takes in 2 parameters, `data`, which is assumed to be a list of numbers, and `n`, which is assumed to be an integer less than the size of `data`.\n",
        "* It prints the first `n` rows of `data` in the format: `ROW NUMBER: DATA IN THAT ROW` where `ROW NUMBER` should go from `0` to `n - 1` and `DATA IN THAT ROW` is the data in rows `0` to `n - 1` respectively."
      ],
      "metadata": {
        "id": "-InkcDKi4tbM"
      }
    },
    {
      "cell_type": "code",
      "source": [
        "def head(data, n):\n",
        "\n",
        "  for i in range(n):\n",
        "    print(str(i) + \": \" + str(data[i]))\n",
        "\n",
        "head([4, 5, 6, 7], 4)"
      ],
      "metadata": {
        "id": "6uQLsihj4tbY",
        "colab": {
          "base_uri": "https://localhost:8080/"
        },
        "outputId": "9846110f-2f9a-45b6-9ae3-375d9725c2d3"
      },
      "execution_count": 38,
      "outputs": [
        {
          "output_type": "stream",
          "name": "stdout",
          "text": [
            "0: 4\n",
            "1: 5\n",
            "2: 6\n",
            "3: 7\n"
          ]
        }
      ]
    },
    {
      "cell_type": "markdown",
      "source": [
        "### **Problem #4.6**\n",
        "\n",
        "If you would like to extend your code further, attempt this problem! Specifically, write a function as described below:\n",
        "* It is named `is_numerical`.\n",
        "* It takes in 1 parameter, `data`, which is assumed to be a 2D list (a list where each element is itself a list). The type of element in each list can be anything (numbers, strings, or others).\n",
        "* It returns a list where the `i`th element is `True` if `data[i]` contains numbers (ints or floats) and `False` otherwise."
      ],
      "metadata": {
        "id": "3FiqZhBX5SCG"
      }
    },
    {
      "cell_type": "code",
      "source": [
        "def is_numerical(data):\n",
        "  numerical = []\n",
        "\n",
        "  for i in range(len(data)):\n",
        "    if type(data[i][0]) == type(1) or type(data[i][0]) == type(1.5):\n",
        "      numerical.append(True)\n",
        "    else:\n",
        "      numerical.append(False)\n",
        "\n",
        "  return numerical\n",
        "\n",
        "is_numerical([[5], [5.6], [\"Hello\"], [False]])"
      ],
      "metadata": {
        "id": "_QRcAdlh5SCR",
        "colab": {
          "base_uri": "https://localhost:8080/"
        },
        "outputId": "725d448b-e136-4e26-f460-4fdd585c2639"
      },
      "execution_count": 41,
      "outputs": [
        {
          "output_type": "execute_result",
          "data": {
            "text/plain": [
              "[True, True, False, False]"
            ]
          },
          "metadata": {},
          "execution_count": 41
        }
      ]
    },
    {
      "cell_type": "markdown",
      "source": [
        "### **Problem #4.7**\n",
        "\n",
        "If you would like to extend your code even further, attempt this problem! Specifically, write a function as described below:\n",
        "* It is named `statistics_list`.\n",
        "* It takes in 1 parameters, `data`, which is assumed to be a 2D list (a list where each element is itself a list). The type of element in each list can be anything (numbers, strings, or others).\n",
        "* It calls the function you wrote above, `statistics`, for every *numerical* sublist, and ignores the other."
      ],
      "metadata": {
        "id": "Yiw_G0JG57rj"
      }
    },
    {
      "cell_type": "code",
      "source": [
        "def statistics_list(data):\n",
        "  numerical = is_numerical(data)\n",
        "\n",
        "  for i in range(len(data)):\n",
        "    if numerical[i] == True:\n",
        "      print(\"Column: \" + str(i))\n",
        "      print(statistics(data[i]))\n",
        "      print('\\n')\n",
        "\n",
        "statistics_list([[4, 5], [\"hello\"], [6, 7]])"
      ],
      "metadata": {
        "id": "IF3kjr3K57rp",
        "colab": {
          "base_uri": "https://localhost:8080/"
        },
        "outputId": "4ca200f0-6fa2-4f7a-d83e-e6ad1c04fd3b"
      },
      "execution_count": 44,
      "outputs": [
        {
          "output_type": "stream",
          "name": "stdout",
          "text": [
            "Column: 0\n",
            "average: 4.5\n",
            "variance: 0.25\n",
            "min: 4\n",
            "max: 5\n",
            "None\n",
            "\n",
            "\n",
            "Column: 2\n",
            "average: 6.5\n",
            "variance: 0.25\n",
            "min: 6\n",
            "max: 7\n",
            "None\n",
            "\n",
            "\n"
          ]
        }
      ]
    },
    {
      "cell_type": "markdown",
      "source": [
        "# End of Notebook\n",
        "\n",
        "---\n",
        "© 2023 The Coding School, All rights reserved"
      ],
      "metadata": {
        "id": "xDePO3cvYk4U"
      }
    }
  ]
}